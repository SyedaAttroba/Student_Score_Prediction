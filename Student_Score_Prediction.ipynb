{
  "cells": [
    {
      "cell_type": "markdown",
      "id": "469d5174-4293-48dc-89c8-4d283bbd37ef",
      "metadata": {
        "id": "469d5174-4293-48dc-89c8-4d283bbd37ef"
      },
      "source": [
        "# Intern: Syeda Attroba Areej Shah"
      ]
    },
    {
      "cell_type": "markdown",
      "id": "feb78ebd-617d-4e81-8405-8831fcbddf2c",
      "metadata": {
        "tags": [],
        "id": "feb78ebd-617d-4e81-8405-8831fcbddf2c"
      },
      "source": [
        "## Task 1: Student Score Prediction using Simple Linear Regression Model"
      ]
    },
    {
      "cell_type": "markdown",
      "id": "ba27f41a-5a53-4944-8870-44a4641ff0f0",
      "metadata": {
        "id": "ba27f41a-5a53-4944-8870-44a4641ff0f0"
      },
      "source": [
        "### Import all required libraries"
      ]
    },
    {
      "cell_type": "code",
      "execution_count": null,
      "id": "494836ef-ba26-4463-bf6f-880cfe7d3347",
      "metadata": {
        "id": "494836ef-ba26-4463-bf6f-880cfe7d3347"
      },
      "outputs": [],
      "source": [
        "import pandas as pd\n",
        "import numpy as np\n",
        "import matplotlib.pyplot as plt\n",
        "%matplotlib inline"
      ]
    },
    {
      "cell_type": "markdown",
      "id": "ee5e16c4-5e85-4e78-aba6-5d2bce97b24e",
      "metadata": {
        "id": "ee5e16c4-5e85-4e78-aba6-5d2bce97b24e"
      },
      "source": [
        "### Reading data and storing it in a variable"
      ]
    },
    {
      "cell_type": "code",
      "execution_count": null,
      "id": "4a276769-efed-4bd6-b087-f8a35833929e",
      "metadata": {
        "id": "4a276769-efed-4bd6-b087-f8a35833929e",
        "outputId": "98762baa-12e1-493d-fd87-9f544c90f0b4"
      },
      "outputs": [
        {
          "data": {
            "text/html": [
              "<div>\n",
              "<style scoped>\n",
              "    .dataframe tbody tr th:only-of-type {\n",
              "        vertical-align: middle;\n",
              "    }\n",
              "\n",
              "    .dataframe tbody tr th {\n",
              "        vertical-align: top;\n",
              "    }\n",
              "\n",
              "    .dataframe thead th {\n",
              "        text-align: right;\n",
              "    }\n",
              "</style>\n",
              "<table border=\"1\" class=\"dataframe\">\n",
              "  <thead>\n",
              "    <tr style=\"text-align: right;\">\n",
              "      <th></th>\n",
              "      <th>Hours</th>\n",
              "      <th>Scores</th>\n",
              "    </tr>\n",
              "  </thead>\n",
              "  <tbody>\n",
              "    <tr>\n",
              "      <th>15</th>\n",
              "      <td>8.9</td>\n",
              "      <td>95</td>\n",
              "    </tr>\n",
              "    <tr>\n",
              "      <th>16</th>\n",
              "      <td>2.5</td>\n",
              "      <td>30</td>\n",
              "    </tr>\n",
              "    <tr>\n",
              "      <th>17</th>\n",
              "      <td>1.9</td>\n",
              "      <td>24</td>\n",
              "    </tr>\n",
              "    <tr>\n",
              "      <th>18</th>\n",
              "      <td>6.1</td>\n",
              "      <td>67</td>\n",
              "    </tr>\n",
              "    <tr>\n",
              "      <th>19</th>\n",
              "      <td>7.4</td>\n",
              "      <td>69</td>\n",
              "    </tr>\n",
              "    <tr>\n",
              "      <th>20</th>\n",
              "      <td>2.7</td>\n",
              "      <td>30</td>\n",
              "    </tr>\n",
              "    <tr>\n",
              "      <th>21</th>\n",
              "      <td>4.8</td>\n",
              "      <td>54</td>\n",
              "    </tr>\n",
              "    <tr>\n",
              "      <th>22</th>\n",
              "      <td>3.8</td>\n",
              "      <td>35</td>\n",
              "    </tr>\n",
              "    <tr>\n",
              "      <th>23</th>\n",
              "      <td>6.9</td>\n",
              "      <td>76</td>\n",
              "    </tr>\n",
              "    <tr>\n",
              "      <th>24</th>\n",
              "      <td>7.8</td>\n",
              "      <td>86</td>\n",
              "    </tr>\n",
              "  </tbody>\n",
              "</table>\n",
              "</div>"
            ],
            "text/plain": [
              "    Hours  Scores\n",
              "15    8.9      95\n",
              "16    2.5      30\n",
              "17    1.9      24\n",
              "18    6.1      67\n",
              "19    7.4      69\n",
              "20    2.7      30\n",
              "21    4.8      54\n",
              "22    3.8      35\n",
              "23    6.9      76\n",
              "24    7.8      86"
            ]
          },
          "execution_count": 4,
          "metadata": {},
          "output_type": "execute_result"
        }
      ],
      "source": [
        "data_link = \"http://bit.ly/w-data\"\n",
        "data = pd.read_csv(data_link)\n",
        "data.tail(10)"
      ]
    },
    {
      "cell_type": "markdown",
      "id": "97c93ecd-7baa-4bee-a9e5-dd04c14bebe7",
      "metadata": {
        "id": "97c93ecd-7baa-4bee-a9e5-dd04c14bebe7"
      },
      "source": [
        "### Plotting a graph to see relationship between hours of study and score of student"
      ]
    },
    {
      "cell_type": "code",
      "execution_count": null,
      "id": "6ce1a9d5-d5c5-4dab-9522-897efbc04b46",
      "metadata": {
        "id": "6ce1a9d5-d5c5-4dab-9522-897efbc04b46",
        "outputId": "2ac38816-05e4-463e-aa2c-b072df95e831"
      },
      "outputs": [
        {
          "data": {
            "image/png": "[encoded data removed]",
            "text/plain": [
              "<Figure size 432x288 with 1 Axes>"
            ]
          },
          "metadata": {
            "needs_background": "light"
          },
          "output_type": "display_data"
        }
      ],
      "source": [
        "data.plot(x='Hours', y='Scores', style='go')\n",
        "plt.xlabel('Hours Studied')\n",
        "plt.ylabel('Percentage Score')\n",
        "\n",
        "plt.title('Hours Studied vs Percentage Score ')\n",
        "plt.show()"
      ]
    },
    {
      "cell_type": "markdown",
      "id": "e054171e-80b2-4699-9ac8-c899b1ed9aff",
      "metadata": {
        "id": "e054171e-80b2-4699-9ac8-c899b1ed9aff"
      },
      "source": [
        "##### Form above graph we can see that there is a positive linear relation between the number of hours studied and percentage of score."
      ]
    },
    {
      "cell_type": "markdown",
      "id": "f1beac21-9da0-49b9-a844-0c0b6e0c0620",
      "metadata": {
        "id": "f1beac21-9da0-49b9-a844-0c0b6e0c0620"
      },
      "source": [
        "### Data Prepration"
      ]
    },
    {
      "cell_type": "markdown",
      "id": "90dacf98-40ce-4a9b-9b41-38c510d776db",
      "metadata": {
        "id": "90dacf98-40ce-4a9b-9b41-38c510d776db"
      },
      "source": [
        "##### Seprate input(Attributes) and output(Lables) from data"
      ]
    },
    {
      "cell_type": "code",
      "execution_count": null,
      "id": "aeb4d7f9-78aa-439c-8d7c-ccf296b9670e",
      "metadata": {
        "id": "aeb4d7f9-78aa-439c-8d7c-ccf296b9670e"
      },
      "outputs": [],
      "source": [
        "Attributes = data.iloc[:, :-1].values\n",
        "Lables = data.iloc[:, 1].values"
      ]
    },
    {
      "cell_type": "markdown",
      "id": "142a573e-18f9-465c-bfea-a99cd3bfa7f7",
      "metadata": {
        "id": "142a573e-18f9-465c-bfea-a99cd3bfa7f7"
      },
      "source": [
        "##### By using Scikit-Learn's built-in train_test_split() method we split data into train and test dataset"
      ]
    },
    {
      "cell_type": "code",
      "execution_count": null,
      "id": "48f2adbd-af7f-423a-92fb-1a6e58c1de67",
      "metadata": {
        "id": "48f2adbd-af7f-423a-92fb-1a6e58c1de67"
      },
      "outputs": [],
      "source": [
        "from sklearn.model_selection import train_test_split\n",
        "\n",
        "x_train, x_test, y_train, y_test = train_test_split(Attributes, Lables, test_size=0.25, random_state=0)"
      ]
    },
    {
      "cell_type": "markdown",
      "id": "edd2d61c-8004-4d08-817e-10a34cb3d7c3",
      "metadata": {
        "id": "edd2d61c-8004-4d08-817e-10a34cb3d7c3"
      },
      "source": [
        "### Training the Algorithm"
      ]
    },
    {
      "cell_type": "code",
      "execution_count": null,
      "id": "1c3ae24a-22e3-4aff-901f-cfbec2ef8998",
      "metadata": {
        "id": "1c3ae24a-22e3-4aff-901f-cfbec2ef8998",
        "outputId": "0377e3e8-2ff4-438a-87af-2547001dc6e6"
      },
      "outputs": [
        {
          "name": "stdout",
          "output_type": "stream",
          "text": [
            "Training complete.\n"
          ]
        }
      ],
      "source": [
        "from sklearn.linear_model import LinearRegression\n",
        "model = LinearRegression()\n",
        "model.fit(x_train, y_train)\n",
        "\n",
        "print(\"Training complete.\")"
      ]
    },
    {
      "cell_type": "markdown",
      "id": "e6c79ca9-5561-4446-9ed8-4b9dead755f3",
      "metadata": {
        "id": "e6c79ca9-5561-4446-9ed8-4b9dead755f3"
      },
      "source": [
        "##### Plotting the regression line"
      ]
    },
    {
      "cell_type": "code",
      "execution_count": null,
      "id": "01cb80c6-cd6d-4eb6-9f8e-e69665b9a860",
      "metadata": {
        "id": "01cb80c6-cd6d-4eb6-9f8e-e69665b9a860"
      },
      "outputs": [],
      "source": [
        "line = model.coef_*x_train + model.intercept_\n"
      ]
    },
    {
      "cell_type": "markdown",
      "id": "21e4528f-0a58-406a-9d86-9051fd4f68a6",
      "metadata": {
        "id": "21e4528f-0a58-406a-9d86-9051fd4f68a6"
      },
      "source": [
        "##### Plotting for the test data"
      ]
    },
    {
      "cell_type": "code",
      "execution_count": null,
      "id": "647c46b8-0f91-4592-b888-47c422a7d1d6",
      "metadata": {
        "id": "647c46b8-0f91-4592-b888-47c422a7d1d6",
        "outputId": "0ff35742-31a5-4cc8-bb03-21b055275611"
      },
      "outputs": [
        {
          "data": {
            "image/png": "[encoded data removed]",
            "text/plain": [
              "<Figure size 432x288 with 1 Axes>"
            ]
          },
          "metadata": {
            "needs_background": "light"
          },
          "output_type": "display_data"
        }
      ],
      "source": [
        "plt.scatter(x_train, y_train)\n",
        "plt.plot(x_train, line);\n",
        "plt.show()"
      ]
    },
    {
      "cell_type": "markdown",
      "id": "82534202-fe82-4136-bfd9-7c54b8ff9e94",
      "metadata": {
        "id": "82534202-fe82-4136-bfd9-7c54b8ff9e94"
      },
      "source": [
        "### Predecting the scores"
      ]
    },
    {
      "cell_type": "markdown",
      "id": "fba99bbc-09b9-4184-9ee7-98129c90fb70",
      "metadata": {
        "id": "fba99bbc-09b9-4184-9ee7-98129c90fb70"
      },
      "source": [
        "##### making prediction of score on basis of studeied hours"
      ]
    },
    {
      "cell_type": "code",
      "execution_count": null,
      "id": "4271e528-f50e-4033-aaa1-10ce14a75f6d",
      "metadata": {
        "id": "4271e528-f50e-4033-aaa1-10ce14a75f6d"
      },
      "outputs": [],
      "source": [
        "y_prediction = model.predict(x_test)"
      ]
    },
    {
      "cell_type": "markdown",
      "id": "0d4c3d1b-1cad-4f14-ba3c-4627eb822670",
      "metadata": {
        "id": "0d4c3d1b-1cad-4f14-ba3c-4627eb822670"
      },
      "source": [
        "##### comparing actual vs predicted"
      ]
    },
    {
      "cell_type": "code",
      "execution_count": null,
      "id": "b6acd1e9-4889-4f3f-9f4a-96c5d04d4bc4",
      "metadata": {
        "id": "b6acd1e9-4889-4f3f-9f4a-96c5d04d4bc4"
      },
      "outputs": [],
      "source": [
        "df = pd.DataFrame({'Actual': y_test, 'Predicted': y_prediction})"
      ]
    },
    {
      "cell_type": "code",
      "execution_count": null,
      "id": "f581e813-574d-4a5a-aeb7-ed5636b20802",
      "metadata": {
        "id": "f581e813-574d-4a5a-aeb7-ed5636b20802",
        "outputId": "ace1256c-54f6-424a-f3e0-7737f4bfb0f9"
      },
      "outputs": [
        {
          "data": {
            "text/html": [
              "<div>\n",
              "<style scoped>\n",
              "    .dataframe tbody tr th:only-of-type {\n",
              "        vertical-align: middle;\n",
              "    }\n",
              "\n",
              "    .dataframe tbody tr th {\n",
              "        vertical-align: top;\n",
              "    }\n",
              "\n",
              "    .dataframe thead th {\n",
              "        text-align: right;\n",
              "    }\n",
              "</style>\n",
              "<table border=\"1\" class=\"dataframe\">\n",
              "  <thead>\n",
              "    <tr style=\"text-align: right;\">\n",
              "      <th></th>\n",
              "      <th>Actual</th>\n",
              "      <th>Predicted</th>\n",
              "    </tr>\n",
              "  </thead>\n",
              "  <tbody>\n",
              "    <tr>\n",
              "      <th>0</th>\n",
              "      <td>20</td>\n",
              "      <td>16.844722</td>\n",
              "    </tr>\n",
              "    <tr>\n",
              "      <th>1</th>\n",
              "      <td>27</td>\n",
              "      <td>33.745575</td>\n",
              "    </tr>\n",
              "    <tr>\n",
              "      <th>2</th>\n",
              "      <td>69</td>\n",
              "      <td>75.500624</td>\n",
              "    </tr>\n",
              "    <tr>\n",
              "      <th>3</th>\n",
              "      <td>30</td>\n",
              "      <td>26.786400</td>\n",
              "    </tr>\n",
              "    <tr>\n",
              "      <th>4</th>\n",
              "      <td>62</td>\n",
              "      <td>60.588106</td>\n",
              "    </tr>\n",
              "    <tr>\n",
              "      <th>5</th>\n",
              "      <td>35</td>\n",
              "      <td>39.710582</td>\n",
              "    </tr>\n",
              "    <tr>\n",
              "      <th>6</th>\n",
              "      <td>24</td>\n",
              "      <td>20.821393</td>\n",
              "    </tr>\n",
              "  </tbody>\n",
              "</table>\n",
              "</div>"
            ],
            "text/plain": [
              "   Actual  Predicted\n",
              "0      20  16.844722\n",
              "1      27  33.745575\n",
              "2      69  75.500624\n",
              "3      30  26.786400\n",
              "4      62  60.588106\n",
              "5      35  39.710582\n",
              "6      24  20.821393"
            ]
          },
          "execution_count": 29,
          "metadata": {},
          "output_type": "execute_result"
        }
      ],
      "source": [
        "df"
      ]
    },
    {
      "cell_type": "markdown",
      "id": "b6b6ee0a-c9ec-48b3-afcd-8387f023e0d9",
      "metadata": {
        "id": "b6b6ee0a-c9ec-48b3-afcd-8387f023e0d9"
      },
      "source": [
        "#### Visualizing Actual vs Predicted score of test dataset"
      ]
    },
    {
      "cell_type": "code",
      "execution_count": null,
      "id": "e7d61fcf-335e-4e1b-92db-22ed37466dac",
      "metadata": {
        "id": "e7d61fcf-335e-4e1b-92db-22ed37466dac",
        "outputId": "4e09b4e4-c6f8-4ad6-e58d-54d233770536"
      },
      "outputs": [
        {
          "data": {
            "image/png": "[encoded data removed]",
            "text/plain": [
              "<Figure size 432x288 with 1 Axes>"
            ]
          },
          "metadata": {
            "needs_background": "light"
          },
          "output_type": "display_data"
        }
      ],
      "source": [
        "plt.scatter(x_test, y_test)\n",
        "plt.scatter(x_test, y_prediction)\n",
        "\n",
        "plt.legend([\"Actual\", \"Predicted\"])\n",
        "plt.show()\n"
      ]
    },
    {
      "cell_type": "markdown",
      "id": "af07a089-7f68-4639-a9ef-0711e8888739",
      "metadata": {
        "id": "af07a089-7f68-4639-a9ef-0711e8888739"
      },
      "source": [
        "#### Testing prediction when studied hours is 9.25"
      ]
    },
    {
      "cell_type": "code",
      "execution_count": null,
      "id": "7030af65-159b-4e39-bac5-dff7ea155025",
      "metadata": {
        "id": "7030af65-159b-4e39-bac5-dff7ea155025",
        "outputId": "706873e1-ee02-4763-db36-88883d13eff3"
      },
      "outputs": [
        {
          "name": "stdout",
          "output_type": "stream",
          "text": [
            "No of Hours = [[9.25]]\n",
            "Predicted Score = 93.89272889341655\n"
          ]
        }
      ],
      "source": [
        "hours = [[9.25]]\n",
        "prediction = model.predict(hours)\n",
        "print(\"No of Hours = {}\".format(hours))\n",
        "print(\"Predicted Score = {}\".format(prediction[0]))"
      ]
    },
    {
      "cell_type": "markdown",
      "id": "2cc84afc-6ecf-4635-8c74-7fed25ffb9b1",
      "metadata": {
        "id": "2cc84afc-6ecf-4635-8c74-7fed25ffb9b1"
      },
      "source": [
        "### Evaluating the model"
      ]
    },
    {
      "cell_type": "markdown",
      "id": "4418bcf8-6645-4156-bdb1-f00c4f1fb13c",
      "metadata": {
        "id": "4418bcf8-6645-4156-bdb1-f00c4f1fb13c"
      },
      "source": [
        "##### Let us evaluate model using mean square error"
      ]
    },
    {
      "cell_type": "code",
      "execution_count": null,
      "id": "1b1160e6-fa65-4a15-9ee5-98935099b3be",
      "metadata": {
        "id": "1b1160e6-fa65-4a15-9ee5-98935099b3be",
        "outputId": "614b5345-73ee-4512-ea78-e04ffe156431"
      },
      "outputs": [
        {
          "name": "stdout",
          "output_type": "stream",
          "text": [
            "Mean Absolute Error: 4.130879918502486\n"
          ]
        }
      ],
      "source": [
        "from sklearn import metrics\n",
        "print('Mean Absolute Error:',\n",
        "      metrics.mean_absolute_error(y_test, y_pred))"
      ]
    }
  ],
  "metadata": {
    "kernelspec": {
      "display_name": "Python 3 (ipykernel)",
      "language": "python",
      "name": "python3"
    },
    "language_info": {
      "codemirror_mode": {
        "name": "ipython",
        "version": 3
      },
      "file_extension": ".py",
      "mimetype": "text/x-python",
      "name": "python",
      "nbconvert_exporter": "python",
      "pygments_lexer": "ipython3",
      "version": "3.9.7"
    },
    "colab": {
      "provenance": []
    }
  },
  "nbformat": 4,
  "nbformat_minor": 5
}